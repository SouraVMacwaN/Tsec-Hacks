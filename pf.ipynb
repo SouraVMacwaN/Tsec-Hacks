{
 "cells": [
  {
   "cell_type": "code",
   "execution_count": 28,
   "metadata": {},
   "outputs": [],
   "source": [
    "import cv2\n",
    "import numpy as np\n",
    "from deepface import DeepFace\n",
    "import cv2\n",
    "import time\n",
    "import json"
   ]
  },
  {
   "cell_type": "code",
   "execution_count": 29,
   "metadata": {},
   "outputs": [
    {
     "name": "stderr",
     "output_type": "stream",
     "text": [
      "Action: emotion: 100%|██████████| 1/1 [00:00<00:00, 12.99it/s]"
     ]
    },
    {
     "name": "stdout",
     "output_type": "stream",
     "text": [
      "[{'emotion': {'angry': 2.7957869693636894, 'disgust': 0.021695221948903054, 'fear': 1.4587871730327606, 'happy': 0.710795447230339, 'sad': 8.90951007604599, 'surprise': 0.07013449794612825, 'neutral': 86.03329062461853}, 'dominant_emotion': 'neutral', 'region': {'x': 360, 'y': 77, 'w': 243, 'h': 243}}]\n"
     ]
    },
    {
     "name": "stderr",
     "output_type": "stream",
     "text": [
      "\n"
     ]
    }
   ],
   "source": [
    "img1 = cv2.imread(\"127400779_muskgetty.png\")\n",
    "result = DeepFace.analyze(img1,actions = ['emotion'])\n",
    "print(result)"
   ]
  },
  {
   "cell_type": "code",
   "execution_count": 38,
   "metadata": {},
   "outputs": [
    {
     "name": "stderr",
     "output_type": "stream",
     "text": [
      "Action: emotion: 100%|██████████| 1/1 [00:00<00:00, 13.52it/s]\n",
      "Action: emotion: 100%|██████████| 1/1 [00:00<00:00, 13.82it/s]\n",
      "Action: emotion: 100%|██████████| 1/1 [00:00<00:00, 13.87it/s]\n",
      "Action: emotion: 100%|██████████| 1/1 [00:00<00:00, 11.43it/s]\n",
      "Action: emotion: 100%|██████████| 1/1 [00:00<00:00, 11.30it/s]\n",
      "Action: emotion: 100%|██████████| 1/1 [00:00<00:00, 11.53it/s]\n",
      "Action: emotion: 100%|██████████| 1/1 [00:00<00:00, 14.23it/s]\n",
      "Action: emotion: 100%|██████████| 1/1 [00:00<00:00, 13.32it/s]\n",
      "Action: emotion: 100%|██████████| 1/1 [00:00<00:00, 11.17it/s]\n",
      "Action: emotion: 100%|██████████| 1/1 [00:00<00:00,  9.67it/s]\n",
      "Action: emotion: 100%|██████████| 1/1 [00:00<00:00, 13.28it/s]\n",
      "Action: emotion: 100%|██████████| 1/1 [00:00<00:00, 13.52it/s]\n",
      "Action: emotion: 100%|██████████| 1/1 [00:00<00:00, 13.69it/s]\n",
      "Action: emotion: 100%|██████████| 1/1 [00:00<00:00, 11.80it/s]\n",
      "Action: emotion: 100%|██████████| 1/1 [00:00<00:00,  8.59it/s]\n",
      "Action: emotion: 100%|██████████| 1/1 [00:00<00:00, 14.01it/s]\n",
      "Action: emotion: 100%|██████████| 1/1 [00:00<00:00, 14.35it/s]\n",
      "Action: emotion: 100%|██████████| 1/1 [00:00<00:00, 13.76it/s]\n",
      "Action: emotion: 100%|██████████| 1/1 [00:00<00:00, 13.79it/s]\n"
     ]
    }
   ],
   "source": [
    "import cv2\n",
    "import deepface\n",
    "\n",
    "# Load the cascade classifier\n",
    "face_cascade = cv2.CascadeClassifier(\"haarcascade_frontalface_default.xml\")\n",
    "\n",
    "# Load the video\n",
    "cap = cv2.VideoCapture(\"head.mp4\")\n",
    "emotions = []\n",
    "time = 1\n",
    "while time != 20:\n",
    "    # Capture a frame from the video\n",
    "    ret, frame = cap.read()\n",
    "\n",
    "\n",
    "    # Convert the frame to grayscale\n",
    "    gray = cv2.cvtColor(frame, cv2.COLOR_BGR2GRAY)\n",
    "\n",
    "    # Detect faces in the frame\n",
    "    faces = face_cascade.detectMultiScale(gray, scaleFactor=1.1, minNeighbors=5, minSize=(30, 30))\n",
    "\n",
    "    # Loop over the faces\n",
    "    for (x, y, w, h) in faces:\n",
    "        face_img = frame[y:y+h, x:x+w]\n",
    "\n",
    "        # Predict the emotion of the face\n",
    "        emotion = DeepFace.analyze(face_img, actions = ['emotion'],enforce_detection=False)\n",
    "        # Draw the predicted emotion on the frame\n",
    "        emotions.append(emotion)\n",
    "        angry_data = [data['emotion'] for data in emotion]\n",
    "\n",
    "        time += 1\n",
    "        break\n",
    "\n",
    "# Release the video capture\n",
    "cap.release()\n",
    "with open('data.json', 'w') as f:\n",
    "    json.dump(angry_data, f)\n",
    "\n"
   ]
  },
  {
   "cell_type": "code",
   "execution_count": 39,
   "metadata": {},
   "outputs": [
    {
     "name": "stdout",
     "output_type": "stream",
     "text": [
      "[[{'emotion': {'angry': 2.895241230726242, 'disgust': 0.0002906199824792566, 'fear': 20.80814838409424, 'happy': 0.05294902948662639, 'sad': 53.24736833572388, 'surprise': 0.40561514906585217, 'neutral': 22.590385377407074}, 'dominant_emotion': 'sad', 'region': {'x': 11, 'y': 9, 'w': 126, 'h': 126}}], [{'emotion': {'angry': 5.847589299082756, 'disgust': 0.0004683831321017351, 'fear': 21.221956610679626, 'happy': 0.07093034218996763, 'sad': 49.71206784248352, 'surprise': 0.8632329292595387, 'neutral': 22.283755242824554}, 'dominant_emotion': 'sad', 'region': {'x': 12, 'y': 10, 'w': 131, 'h': 131}}], [{'emotion': {'angry': 3.9955864553944522, 'disgust': 0.0003131178654794122, 'fear': 24.415221880051867, 'happy': 0.042080001080185045, 'sad': 47.81716193948246, 'surprise': 1.1800379016950249, 'neutral': 22.549586290170396}, 'dominant_emotion': 'sad', 'region': {'x': 11, 'y': 9, 'w': 129, 'h': 129}}], [{'emotion': {'angry': 2.218388898276621, 'disgust': 0.00024580873842689605, 'fear': 33.659662822464874, 'happy': 0.06268801308426339, 'sad': 44.436144497164754, 'surprise': 0.6162602356082342, 'neutral': 19.00661104956931}, 'dominant_emotion': 'sad', 'region': {'x': 11, 'y': 10, 'w': 130, 'h': 130}}], [{'emotion': {'angry': 4.935471713542938, 'disgust': 0.0004446536422619829, 'fear': 14.05218094587326, 'happy': 0.03497175348456949, 'sad': 54.7465443611145, 'surprise': 0.31942909117788076, 'neutral': 25.910958647727966}, 'dominant_emotion': 'sad', 'region': {'x': 11, 'y': 10, 'w': 129, 'h': 129}}], [{'emotion': {'angry': 4.740951210260391, 'disgust': 0.0007087185167620191, 'fear': 18.0701345205307, 'happy': 0.049386860337108374, 'sad': 50.727057456970215, 'surprise': 0.854191929101944, 'neutral': 25.557562708854675}, 'dominant_emotion': 'sad', 'region': {'x': 12, 'y': 9, 'w': 128, 'h': 128}}], [{'emotion': {'angry': 3.706349571072953, 'disgust': 0.00029303471530264905, 'fear': 14.174896877979489, 'happy': 0.037567760089735114, 'sad': 46.43115912226656, 'surprise': 0.38563914012501005, 'neutral': 35.26410407164194}, 'dominant_emotion': 'sad', 'region': {'x': 12, 'y': 10, 'w': 129, 'h': 129}}], [{'emotion': {'angry': 3.2781716253552884, 'disgust': 0.0003667581285556285, 'fear': 17.159506123124824, 'happy': 0.046885892747534186, 'sad': 47.48859137432678, 'surprise': 0.5978621295407857, 'neutral': 31.428610512183845}, 'dominant_emotion': 'sad', 'region': {'x': 10, 'y': 9, 'w': 129, 'h': 129}}], [{'emotion': {'angry': 3.008631816967509, 'disgust': 0.00021097243675050848, 'fear': 26.581752111702905, 'happy': 0.10453305358045654, 'sad': 39.75401344847519, 'surprise': 1.2076478874507084, 'neutral': 29.343205172633507}, 'dominant_emotion': 'sad', 'region': {'x': 9, 'y': 9, 'w': 130, 'h': 130}}], [{'emotion': {'angry': 5.281605571508408, 'disgust': 0.0004916340003546793, 'fear': 13.675352931022644, 'happy': 0.06411250797100365, 'sad': 48.81969392299652, 'surprise': 0.6443464662879705, 'neutral': 31.514400243759155}, 'dominant_emotion': 'sad', 'region': {'x': 11, 'y': 9, 'w': 130, 'h': 130}}], [{'emotion': {'angry': 3.1894467771053314, 'disgust': 0.00038656380638713017, 'fear': 30.3224116563797, 'happy': 0.07030618726275861, 'sad': 46.19806706905365, 'surprise': 1.3358447700738907, 'neutral': 18.883536756038666}, 'dominant_emotion': 'sad', 'region': {'x': 10, 'y': 8, 'w': 130, 'h': 130}}], [{'emotion': {'angry': 3.779299184679985, 'disgust': 0.00020533154838631162, 'fear': 14.224502444267273, 'happy': 0.04154696362093091, 'sad': 37.4856173992157, 'surprise': 0.2909016329795122, 'neutral': 44.17793154716492}, 'dominant_emotion': 'neutral', 'region': {'x': 10, 'y': 10, 'w': 129, 'h': 129}}], [{'emotion': {'angry': 3.635769709944725, 'disgust': 0.0004809353868040489, 'fear': 19.228333234786987, 'happy': 0.06711441674269736, 'sad': 49.034738540649414, 'surprise': 0.5324459634721279, 'neutral': 27.501115202903748}, 'dominant_emotion': 'sad', 'region': {'x': 11, 'y': 9, 'w': 130, 'h': 130}}], [{'emotion': {'angry': 2.9617227613925934, 'disgust': 0.0004645984972739825, 'fear': 25.502237677574158, 'happy': 0.05443126428872347, 'sad': 50.50709843635559, 'surprise': 0.9929288178682327, 'neutral': 19.98112201690674}, 'dominant_emotion': 'sad', 'region': {'x': 11, 'y': 9, 'w': 126, 'h': 126}}], [{'emotion': {'angry': 6.769045380467727, 'disgust': 0.00018742003970553974, 'fear': 19.140275521245538, 'happy': 0.020961516249855906, 'sad': 54.54558079891434, 'surprise': 0.3936640914631973, 'neutral': 19.130279823508285}, 'dominant_emotion': 'sad', 'region': {'x': 10, 'y': 9, 'w': 131, 'h': 131}}], [{'emotion': {'angry': 4.45223700715524, 'disgust': 0.00031745834876796867, 'fear': 13.868077925925132, 'happy': 0.042410715449867575, 'sad': 49.06153673300366, 'surprise': 0.5145195246946528, 'neutral': 32.06089926128979}, 'dominant_emotion': 'sad', 'region': {'x': 11, 'y': 9, 'w': 129, 'h': 129}}], [{'emotion': {'angry': 5.357322469353676, 'disgust': 0.0002392132046225015, 'fear': 16.67998731136322, 'happy': 0.04232612845953554, 'sad': 51.79851055145264, 'surprise': 0.36352379247546196, 'neutral': 25.75809359550476}, 'dominant_emotion': 'sad', 'region': {'x': 12, 'y': 8, 'w': 130, 'h': 130}}], [{'emotion': {'angry': 2.884359285235405, 'disgust': 0.0004570997589325998, 'fear': 29.083916544914246, 'happy': 0.0577217957470566, 'sad': 53.03676724433899, 'surprise': 0.8713657967746258, 'neutral': 14.065414667129517}, 'dominant_emotion': 'sad', 'region': {'x': 10, 'y': 10, 'w': 128, 'h': 128}}], [{'emotion': {'angry': 2.684672150592336, 'disgust': 0.00046374341799663727, 'fear': 34.595992243051064, 'happy': 0.09226422375525378, 'sad': 48.29226722075148, 'surprise': 0.8164166028151871, 'neutral': 13.517921478624432}, 'dominant_emotion': 'sad', 'region': {'x': 10, 'y': 9, 'w': 128, 'h': 128}}]]\n"
     ]
    }
   ],
   "source": [
    "print(emotions)"
   ]
  },
  {
   "cell_type": "code",
   "execution_count": null,
   "metadata": {},
   "outputs": [],
   "source": []
  }
 ],
 "metadata": {
  "kernelspec": {
   "display_name": "envv",
   "language": "python",
   "name": "python3"
  },
  "language_info": {
   "codemirror_mode": {
    "name": "ipython",
    "version": 3
   },
   "file_extension": ".py",
   "mimetype": "text/x-python",
   "name": "python",
   "nbconvert_exporter": "python",
   "pygments_lexer": "ipython3",
   "version": "3.10.1"
  },
  "orig_nbformat": 4,
  "vscode": {
   "interpreter": {
    "hash": "2bbc7c6cd0615c9b19eb8cc50718b08823740260cbc07fdf3de18d7d679b34ab"
   }
  }
 },
 "nbformat": 4,
 "nbformat_minor": 2
}
